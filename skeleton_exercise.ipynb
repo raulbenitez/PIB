{
  "nbformat": 4,
  "nbformat_minor": 0,
  "metadata": {
    "colab": {
      "name": "skeleton_exercise.ipynb",
      "provenance": [],
      "authorship_tag": "ABX9TyM+M/Yb95lfBxGKmo1DJwAb",
      "include_colab_link": true
    },
    "kernelspec": {
      "name": "python3",
      "display_name": "Python 3"
    }
  },
  "cells": [
    {
      "cell_type": "markdown",
      "metadata": {
        "id": "view-in-github",
        "colab_type": "text"
      },
      "source": [
        "<a href=\"https://colab.research.google.com/github/raulbenitez/PIB/blob/main/skeleton_exercise.ipynb\" target=\"_parent\"><img src=\"https://colab.research.google.com/assets/colab-badge.svg\" alt=\"Open In Colab\"/></a>"
      ]
    },
    {
      "cell_type": "code",
      "metadata": {
        "id": "j43XmWiFULYh"
      },
      "source": [
        "import skimage as sk # load skimage libraries\n",
        "from skimage import io\n",
        "import numpy as np\n",
        "from skimage import img_as_bool\n",
        "from skimage.morphology import skeletonize\n",
        "import matplotlib.pyplot as plt\n",
        "\n",
        "IC = sk.io.imread('25_manual1.gif') # read image using imread function\n",
        "\n",
        "IBW = img_as_bool(IC)\n",
        "\n",
        "# perform skeletonization\n",
        "skeleton = skeletonize(IBW)\n",
        "\n",
        "# display results\n",
        "fig, axes = plt.subplots(nrows=1, ncols=2, figsize=(8, 4),\n",
        "                         sharex=True, sharey=True)\n",
        "ax = axes.ravel()\n",
        "\n",
        "ax[0].imshow(IC, cmap=plt.cm.gray)\n",
        "ax[0].axis('off')\n",
        "ax[0].set_title('original', fontsize=20)\n",
        "\n",
        "ax[1].imshow(skeleton, cmap=plt.cm.gray)\n",
        "ax[1].axis('off')\n",
        "ax[1].set_title('skeleton', fontsize=20)\n",
        "\n",
        "fig.tight_layout()\n",
        "plt.show()\n"
      ],
      "execution_count": null,
      "outputs": []
    }
  ]
}